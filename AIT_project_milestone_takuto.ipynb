{
  "nbformat": 4,
  "nbformat_minor": 0,
  "metadata": {
    "colab": {
      "name": "AIT-project-milestone_takuto.ipynb",
      "provenance": [],
      "collapsed_sections": [],
      "include_colab_link": true
    },
    "kernelspec": {
      "display_name": "Python 3",
      "name": "python3"
    }
  },
  "cells": [
    {
      "cell_type": "markdown",
      "metadata": {
        "id": "view-in-github",
        "colab_type": "text"
      },
      "source": [
        "<a href=\"https://colab.research.google.com/github/Takutino/AIT_finalProject_milestone/blob/main/AIT_project_milestone_takuto.ipynb\" target=\"_parent\"><img src=\"https://colab.research.google.com/assets/colab-badge.svg\" alt=\"Open In Colab\"/></a>"
      ]
    },
    {
      "cell_type": "markdown",
      "metadata": {
        "id": "wyqDNrDsuWoL"
      },
      "source": [
        "Install Maestro midi files"
      ]
    },
    {
      "cell_type": "code",
      "metadata": {
        "id": "cUGP6zehYDQk"
      },
      "source": [
        "!wget https://storage.googleapis.com/magentadata/datasets/maestro/v3.0.0/maestro-v3.0.0-midi.zip"
      ],
      "execution_count": null,
      "outputs": []
    },
    {
      "cell_type": "markdown",
      "metadata": {
        "id": "XnuV-LIsutTb"
      },
      "source": [
        "Unzip maestro midi files"
      ]
    },
    {
      "cell_type": "code",
      "metadata": {
        "id": "GMtK8LInYRfS"
      },
      "source": [
        "!apt-get install unp\n",
        "!unp maestro-v3.0.0-midi.zip"
      ],
      "execution_count": null,
      "outputs": []
    },
    {
      "cell_type": "markdown",
      "metadata": {
        "id": "Gc7fzICAu2RL"
      },
      "source": [
        "Install mido for working with MIDI messages and ports"
      ]
    },
    {
      "cell_type": "code",
      "metadata": {
        "colab": {
          "base_uri": "https://localhost:8080/"
        },
        "id": "KhYgxy2HYZMQ",
        "outputId": "eaeb225f-3b5a-48fc-9185-24fbac6e1b13"
      },
      "source": [
        "!pip install mido"
      ],
      "execution_count": null,
      "outputs": [
        {
          "output_type": "stream",
          "text": [
            "Collecting mido\n",
            "\u001b[?25l  Downloading https://files.pythonhosted.org/packages/20/0a/81beb587b1ae832ea6a1901dc7c6faa380e8dd154e0a862f0a9f3d2afab9/mido-1.2.9-py2.py3-none-any.whl (52kB)\n",
            "\r\u001b[K     |██████▎                         | 10kB 15.6MB/s eta 0:00:01\r\u001b[K     |████████████▌                   | 20kB 8.7MB/s eta 0:00:01\r\u001b[K     |██████████████████▊             | 30kB 7.5MB/s eta 0:00:01\r\u001b[K     |█████████████████████████       | 40kB 6.9MB/s eta 0:00:01\r\u001b[K     |███████████████████████████████▏| 51kB 4.7MB/s eta 0:00:01\r\u001b[K     |████████████████████████████████| 61kB 2.9MB/s \n",
            "\u001b[?25hInstalling collected packages: mido\n",
            "Successfully installed mido-1.2.9\n"
          ],
          "name": "stdout"
        }
      ]
    },
    {
      "cell_type": "markdown",
      "metadata": {
        "id": "uJE_Fc9WvCto"
      },
      "source": [
        "Download the file which has all the meta information of midi files"
      ]
    },
    {
      "cell_type": "code",
      "metadata": {
        "colab": {
          "base_uri": "https://localhost:8080/"
        },
        "id": "7-VWoHk1ZHuY",
        "outputId": "6fb79e60-ad0f-4f98-d0c4-034451222db1"
      },
      "source": [
        "!wget https://storage.googleapis.com/magentadata/datasets/maestro/v3.0.0/maestro-v3.0.0.csv"
      ],
      "execution_count": null,
      "outputs": [
        {
          "output_type": "stream",
          "text": [
            "--2021-03-24 11:42:01--  https://storage.googleapis.com/magentadata/datasets/maestro/v3.0.0/maestro-v3.0.0.csv\n",
            "Resolving storage.googleapis.com (storage.googleapis.com)... 173.194.213.128, 173.194.215.128, 173.194.216.128, ...\n",
            "Connecting to storage.googleapis.com (storage.googleapis.com)|173.194.213.128|:443... connected.\n",
            "HTTP request sent, awaiting response... 200 OK\n",
            "Length: 298977 (292K) [application/octet-stream]\n",
            "Saving to: ‘maestro-v3.0.0.csv’\n",
            "\n",
            "\rmaestro-v3.0.0.csv    0%[                    ]       0  --.-KB/s               \rmaestro-v3.0.0.csv  100%[===================>] 291.97K  --.-KB/s    in 0.005s  \n",
            "\n",
            "2021-03-24 11:42:01 (59.0 MB/s) - ‘maestro-v3.0.0.csv’ saved [298977/298977]\n",
            "\n"
          ],
          "name": "stdout"
        }
      ]
    },
    {
      "cell_type": "markdown",
      "metadata": {
        "id": "xbAuS4DUvPdH"
      },
      "source": [
        "Read the csv file in the form of two dimensional datas, which will be used for training, validation and testing"
      ]
    },
    {
      "cell_type": "code",
      "metadata": {
        "id": "UkuewAFoYv2I"
      },
      "source": [
        "# source: https://github.com/DRyanMiller/MIDI_Visualization\n",
        "import pandas as pd\n",
        "# python package : working with panel datas : 2 dimensional data\n",
        "files = pd.read_csv('https://storage.googleapis.com/magentadata/datasets/maestro/v3.0.0/maestro-v3.0.0.csv')\n",
        "# will be using this for training and validation, and testing"
      ],
      "execution_count": null,
      "outputs": []
    },
    {
      "cell_type": "markdown",
      "metadata": {
        "id": "Wgig8rF8wZop"
      },
      "source": [
        "Install Unidecode for encoding"
      ]
    },
    {
      "cell_type": "code",
      "metadata": {
        "colab": {
          "base_uri": "https://localhost:8080/"
        },
        "id": "5xE9qn-uav8n",
        "outputId": "55d10702-4575-4bb4-feaf-0b312d662d2a"
      },
      "source": [
        "# this is the one we are most likely to use\n",
        "!pip install Unidecode"
      ],
      "execution_count": null,
      "outputs": [
        {
          "output_type": "stream",
          "text": [
            "Requirement already satisfied: Unidecode in /usr/local/lib/python3.7/dist-packages (1.2.0)\n"
          ],
          "name": "stdout"
        }
      ]
    },
    {
      "cell_type": "markdown",
      "metadata": {
        "id": "jcQ6LiN6wgRq"
      },
      "source": [
        "Read midi files and define some methods such as \n",
        "getting the max and min pitch of midi file and getting the time dimension for a pianoroll given a certain quantization\n"
      ]
    },
    {
      "cell_type": "code",
      "metadata": {
        "id": "9PeB0cxLaKiX"
      },
      "source": [
        "from mido import MidiFile\n",
        "from unidecode import unidecode\n",
        "import numpy as np\n",
        "\n",
        "#######\n",
        "# Pianorolls dims are  :   TIME  *  PITCH\n",
        "\n",
        "#quantization : amplitude  resolution \n",
        "class Read_midi(object):\n",
        "# initialize the some of properties\n",
        "    def __init__(self, song_path, quantization):\n",
        "        ## Metadata\n",
        "        self.__song_path = song_path\n",
        "        self.__quantization = quantization\n",
        "\n",
        "        ## Pianoroll\n",
        "        self.__T_pr = None\n",
        "\n",
        "        ## Private misc\n",
        "        self.__num_ticks = None\n",
        "        self.__T_file = None\n",
        "\n",
        "    @property\n",
        "    def quantization(self):\n",
        "        return self.__quantization\n",
        "\n",
        "    @property\n",
        "    def T_pr(self):\n",
        "        return self.__T_pr\n",
        "\n",
        "    @property\n",
        "    def T_file(self):\n",
        "        return self.__T_file\n",
        "\n",
        "    def get_total_num_tick(self):\n",
        "        # Midi length should be written in a meta message at the beginning of the file,\n",
        "        # Read a midi file and return a dictionnary {track_name : pianoroll}\n",
        "        mid = MidiFile(self.__song_path)\n",
        "\n",
        "        # Parse track by track\n",
        "        num_ticks = 0\n",
        "        for i, track in enumerate(mid.tracks):\n",
        "            tick_counter = 0\n",
        "            for message in track:\n",
        "                # Note on\n",
        "                time = float(message.time)\n",
        "                tick_counter += time\n",
        "            num_ticks = max(num_ticks, tick_counter)\n",
        "        self.__num_ticks = num_ticks\n",
        "\n",
        "    # it finds the min and max pitch\n",
        "    def get_pitch_range(self):\n",
        "        mid = MidiFile(self.__song_path)\n",
        "        min_pitch = 200\n",
        "        max_pitch = 0\n",
        "        for i, track in enumerate(mid.tracks):\n",
        "            for message in track:\n",
        "                if message.type in ['note_on', 'note_off']:\n",
        "                    pitch = message.note\n",
        "                    if pitch > max_pitch:\n",
        "                        max_pitch = pitch\n",
        "                    if pitch < min_pitch:\n",
        "                        min_pitch = pitch\n",
        "        return min_pitch, max_pitch\n",
        "    \n",
        "    def get_time_file(self):\n",
        "        # Get the time dimension for a pianoroll given a certain quantization\n",
        "        mid = MidiFile(self.__song_path)\n",
        "        # Tick per beat\n",
        "        ticks_per_beat = mid.ticks_per_beat\n",
        "        # Total number of ticks\n",
        "        self.get_total_num_tick()\n",
        "        # Dimensions of the pianoroll for each track -> equation for getting the time\n",
        "        self.__T_file = int((self.__num_ticks / ticks_per_beat) * self.__quantization)\n",
        "        return self.__T_file\n",
        "\n",
        "    # Read the actual data and read the score and tone\n",
        "    def read_file(self):\n",
        "        # Read the midi file and return a dictionnary {track_name : pianoroll}\n",
        "        mid = MidiFile(self.__song_path)\n",
        "        # Tick per beat\n",
        "        ticks_per_beat = mid.ticks_per_beat\n",
        "\n",
        "        # Get total time\n",
        "        self.get_time_file()\n",
        "        T_pr = self.__T_file\n",
        "        #print(\"T_pr:\", T_pr)\n",
        "        # Pitch dimension\n",
        "        N_pr = 128\n",
        "        pianoroll = {}\n",
        "\n",
        "        def add_note_to_pr(note_off, notes_on, pr):\n",
        "            pitch_off, _, time_off = note_off\n",
        "            # Note off : search for the note in the list of note on,\n",
        "            # get the start and end time\n",
        "            # write it in th pr\n",
        "            match_list = [(ind, item) for (ind, item) in enumerate(notes_on) if item[0] == pitch_off]\n",
        "            if len(match_list) == 0:\n",
        "                print(\"Try to note off a note that has never been turned on\")\n",
        "                # Do nothing\n",
        "                return\n",
        "\n",
        "            # Add note to the pr\n",
        "            pitch, velocity, time_on = match_list[0][1]\n",
        "            pr[time_on:time_off, pitch] = velocity\n",
        "            #v :  the force how strong you push the key\n",
        "            #pr contains np array that has music data\n",
        "            # Remove the note from notes_on\n",
        "            ind_match = match_list[0][0]\n",
        "            del notes_on[ind_match]\n",
        "            return\n",
        "\n",
        "        # Parse track by track\n",
        "        counter_unnamed_track = 0\n",
        "        #print(\"Number of tracks: \",mid.tracks)\n",
        "        for i, track in enumerate(mid.tracks):\n",
        "            # Instanciate the pianoroll\n",
        "            pr = np.zeros([T_pr, N_pr])\n",
        "            time_counter = 0\n",
        "            notes_on = []\n",
        "            for message in track:\n",
        "\n",
        "                ##########################################\n",
        "                ##########################################\n",
        "                ##########################################\n",
        "                # TODO : keep track of tempo information\n",
        "                # import re\n",
        "                # if re.search(\"tempo\", message.type):\n",
        "                #     import pdb; pdb.set_trace()\n",
        "                ##########################################\n",
        "                ##########################################\n",
        "                ##########################################\n",
        "\n",
        "\n",
        "                # print message\n",
        "                # Time. Must be incremented, whether it is a note on/off or not\n",
        "                time = float(message.time)\n",
        "                time_counter += time / ticks_per_beat * self.__quantization\n",
        "                # Time in pr (mapping)\n",
        "                time_pr = int(round(time_counter))\n",
        "                # Note on\n",
        "                if message.type == 'note_on':\n",
        "                    # Get pitch\n",
        "                    pitch = message.note\n",
        "                    # Get velocity\n",
        "                    velocity = message.velocity\n",
        "                    if velocity > 0:\n",
        "                        notes_on.append((pitch, velocity, time_pr))\n",
        "                    elif velocity == 0:\n",
        "                        add_note_to_pr((pitch, velocity, time_pr), notes_on, pr)\n",
        "                # Note off\n",
        "                elif message.type == 'note_off':\n",
        "                    pitch = message.note\n",
        "                    velocity = message.velocity\n",
        "                    add_note_to_pr((pitch, velocity, time_pr), notes_on, pr)\n",
        "\n",
        "            # We deal with discrete values ranged between 0 and 127\n",
        "            #     -> convert to int\n",
        "            pr = pr.astype(np.int16)\n",
        "            if np.sum(np.sum(pr)) > 0:\n",
        "                name = unidecode(track.name)\n",
        "                name = name.rstrip('\\x00')\n",
        "                if name == u'':\n",
        "                    name = 'unnamed' + str(counter_unnamed_track)\n",
        "                    counter_unnamed_track += 1\n",
        "                if name in pianoroll.keys():\n",
        "                    # Take max of the to pianorolls\n",
        "                    pianoroll[name] = np.maximum(pr, pianoroll[name])\n",
        "                else:\n",
        "                    pianoroll[name] = pr\n",
        "        return pianoroll\n",
        "\n",
        "        #goal : return the np array : 2d matrices : time * pitch , assign values [velocity(loudness)]\n",
        "\n",
        "import numpy as np\n",
        "\n",
        "def get_pianoroll_time(pianoroll):\n",
        "    T_pr_list = []\n",
        "    for k, v in pianoroll.items():\n",
        "        T_pr_list.append(v.shape[0])\n",
        "    if not len(set(T_pr_list)) == 1:\n",
        "        print(\"Inconsistent dimensions in the new PR\")\n",
        "        return None\n",
        "    return T_pr_list[0]\n",
        "\n",
        "def get_pitch_dim(pianoroll):\n",
        "    N_pr_list = []\n",
        "    for k, v in pianoroll.items():\n",
        "        N_pr_list.append(v.shape[1])\n",
        "    if not len(set(N_pr_list)) == 1:\n",
        "        print(\"Inconsistent dimensions in the new PR\")\n",
        "        raise NameError(\"Pr dimension\")\n",
        "    return N_pr_list[0]\n",
        "\n",
        "def dict_to_matrix(pianoroll):\n",
        "    T_pr = get_pianoroll_time(pianoroll)\n",
        "    N_pr = get_pitch_dim(pianoroll)\n",
        "    rp = np.zeros((T_pr, N_pr), dtype=np.int16)\n",
        "    for k, v in pianoroll.items():\n",
        "        rp = np.maximum(rp, v)\n",
        "    return rp"
      ],
      "execution_count": null,
      "outputs": []
    },
    {
      "cell_type": "markdown",
      "metadata": {
        "id": "JJn5NeTJFlQw"
      },
      "source": [
        "Go through all the midi files, load them onto numpy arrays split the data based on splic column of the datas"
      ]
    },
    {
      "cell_type": "code",
      "metadata": {
        "colab": {
          "background_save": true
        },
        "id": "11x0T2_-dmmG"
      },
      "source": [
        "# go through all the midi files based on csv files\n",
        "midi_files = []\n",
        "\n",
        "midi_files_train = []\n",
        "midi_files_valid = []\n",
        "midi_files_test = []\n",
        "\n",
        "for i in range(len(files)):\n",
        "  # files: that has the content of csv file\n",
        "  # files[\"\"] select the column of that data flame\n",
        "  #.iloc selects the specific row\n",
        "  file_path = \"maestro-v3.0.0/\"\n",
        "  file_name = files[\"midi_filename\"].iloc[i]\n",
        "  fileForOneRow = files.iloc[i]\n",
        "  \n",
        "  m = Read_midi(file_path+file_name, 4).read_file()\n",
        "  matrixBeforeSplit = dict_to_matrix(m)\n",
        "\n",
        "  print(file_name)\n",
        "\n",
        "  if (files[\"split\"].iloc[i] == \"train\") : \n",
        "      midi_files_train.append(matrixBeforeSplit)\n",
        "  elif (files[\"split\"].iloc[i] == \"validation\") :\n",
        "      midi_files_valid.append(matrixBeforeSplit)\n",
        "  else :\n",
        "      midi_files_test.append(matrixBeforeSplit)\n",
        "\n",
        "print(\"For training set\")\n",
        "print(len(midi_files_train))\n",
        "print(\"For test set\")\n",
        "print(len(midi_files_test.shape))\n",
        "print(\"For validation set\")\n",
        "print(len(midi_files_validation.shape))"
      ],
      "execution_count": null,
      "outputs": []
    }
  ]
}