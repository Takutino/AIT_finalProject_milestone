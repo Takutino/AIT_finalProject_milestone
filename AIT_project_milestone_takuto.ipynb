{
  "nbformat": 4,
  "nbformat_minor": 0,
  "metadata": {
    "colab": {
      "name": "AIT-project-milestone_takuto.ipynb",
      "provenance": [],
      "include_colab_link": true
    },
    "kernelspec": {
      "display_name": "Python 3",
      "name": "python3"
    }
  },
  "cells": [
    {
      "cell_type": "markdown",
      "metadata": {
        "id": "view-in-github",
        "colab_type": "text"
      },
      "source": [
        "<a href=\"https://colab.research.google.com/github/Takutino/AIT_finalProject_milestone/blob/main/AIT_project_milestone_takuto.ipynb\" target=\"_parent\"><img src=\"https://colab.research.google.com/assets/colab-badge.svg\" alt=\"Open In Colab\"/></a>"
      ]
    },
    {
      "cell_type": "code",
      "metadata": {
        "id": "cUGP6zehYDQk"
      },
      "source": [
        "!wget https://storage.googleapis.com/magentadata/datasets/maestro/v3.0.0/maestro-v3.0.0-midi.zip"
      ],
      "execution_count": null,
      "outputs": []
    },
    {
      "cell_type": "code",
      "metadata": {
        "id": "GMtK8LInYRfS"
      },
      "source": [
        "!apt-get install unp\r\n",
        "!unp maestro-v3.0.0-midi.zip"
      ],
      "execution_count": null,
      "outputs": []
    },
    {
      "cell_type": "code",
      "metadata": {
        "id": "KhYgxy2HYZMQ"
      },
      "source": [
        "!pip install mido"
      ],
      "execution_count": null,
      "outputs": []
    },
    {
      "cell_type": "code",
      "metadata": {
        "id": "7-VWoHk1ZHuY"
      },
      "source": [
        "# download the file which has all the meta information of midi files\r\n",
        "!wget https://storage.googleapis.com/magentadata/datasets/maestro/v3.0.0/maestro-v3.0.0.csv"
      ],
      "execution_count": null,
      "outputs": []
    },
    {
      "cell_type": "code",
      "metadata": {
        "id": "UkuewAFoYv2I"
      },
      "source": [
        "# source: https://github.com/DRyanMiller/MIDI_Visualization\r\n",
        "import pandas as pd\r\n",
        "# python package : working with panel datas : 2 dimensional data\r\n",
        "files = pd.read_csv('https://storage.googleapis.com/magentadata/datasets/maestro/v3.0.0/maestro-v3.0.0.csv')\r\n",
        "# will be using this for training and validation, and testing"
      ],
      "execution_count": 5,
      "outputs": []
    },
    {
      "cell_type": "code",
      "metadata": {
        "id": "5xE9qn-uav8n"
      },
      "source": [
        "# this is the one we are most likely to use\n",
        "!pip install Unidecode"
      ],
      "execution_count": null,
      "outputs": []
    },
    {
      "cell_type": "code",
      "metadata": {
        "id": "9PeB0cxLaKiX"
      },
      "source": [
        "from mido import MidiFile\r\n",
        "from unidecode import unidecode\r\n",
        "import numpy as np\r\n",
        "\r\n",
        "#######\r\n",
        "# Pianorolls dims are  :   TIME  *  PITCH\r\n",
        "\r\n",
        "#quantization : amplitude  resolution \r\n",
        "class Read_midi(object):\r\n",
        "# initialize the some of properties\r\n",
        "    def __init__(self, song_path, quantization):\r\n",
        "        ## Metadata\r\n",
        "        self.__song_path = song_path\r\n",
        "        self.__quantization = quantization\r\n",
        "\r\n",
        "        ## Pianoroll\r\n",
        "        self.__T_pr = None\r\n",
        "\r\n",
        "        ## Private misc\r\n",
        "        self.__num_ticks = None\r\n",
        "        self.__T_file = None\r\n",
        "\r\n",
        "    @property\r\n",
        "    def quantization(self):\r\n",
        "        return self.__quantization\r\n",
        "\r\n",
        "    @property\r\n",
        "    def T_pr(self):\r\n",
        "        return self.__T_pr\r\n",
        "\r\n",
        "    @property\r\n",
        "    def T_file(self):\r\n",
        "        return self.__T_file\r\n",
        "\r\n",
        "    def get_total_num_tick(self):\r\n",
        "        # Midi length should be written in a meta message at the beginning of the file,\r\n",
        "        # but in many cases, lazy motherfuckers didn't write it...\r\n",
        "\r\n",
        "        # Read a midi file and return a dictionnary {track_name : pianoroll}\r\n",
        "        mid = MidiFile(self.__song_path)\r\n",
        "\r\n",
        "        # Parse track by track\r\n",
        "        num_ticks = 0\r\n",
        "        for i, track in enumerate(mid.tracks):\r\n",
        "            tick_counter = 0\r\n",
        "            for message in track:\r\n",
        "                # Note on\r\n",
        "                time = float(message.time)\r\n",
        "                tick_counter += time\r\n",
        "            num_ticks = max(num_ticks, tick_counter)\r\n",
        "        self.__num_ticks = num_ticks\r\n",
        "\r\n",
        "    # it finds the min and max pitch\r\n",
        "    def get_pitch_range(self):\r\n",
        "        mid = MidiFile(self.__song_path)\r\n",
        "        min_pitch = 200\r\n",
        "        max_pitch = 0\r\n",
        "        for i, track in enumerate(mid.tracks):\r\n",
        "            for message in track:\r\n",
        "                if message.type in ['note_on', 'note_off']:\r\n",
        "                    pitch = message.note\r\n",
        "                    if pitch > max_pitch:\r\n",
        "                        max_pitch = pitch\r\n",
        "                    if pitch < min_pitch:\r\n",
        "                        min_pitch = pitch\r\n",
        "        return min_pitch, max_pitch\r\n",
        "    \r\n",
        "    def get_time_file(self):\r\n",
        "        # Get the time dimension for a pianoroll given a certain quantization\r\n",
        "        mid = MidiFile(self.__song_path)\r\n",
        "        # Tick per beat\r\n",
        "        ticks_per_beat = mid.ticks_per_beat\r\n",
        "        # Total number of ticks\r\n",
        "        self.get_total_num_tick()\r\n",
        "        # Dimensions of the pianoroll for each track -> equation for getting the time\r\n",
        "        self.__T_file = int((self.__num_ticks / ticks_per_beat) * self.__quantization)\r\n",
        "        return self.__T_file\r\n",
        "\r\n",
        "    # Read the actual data and read the score and tone\r\n",
        "    def read_file(self):\r\n",
        "        # Read the midi file and return a dictionnary {track_name : pianoroll}\r\n",
        "        mid = MidiFile(self.__song_path)\r\n",
        "        # Tick per beat\r\n",
        "        ticks_per_beat = mid.ticks_per_beat\r\n",
        "\r\n",
        "        # Get total time\r\n",
        "        self.get_time_file()\r\n",
        "        T_pr = self.__T_file\r\n",
        "        #print(\"T_pr:\", T_pr)\r\n",
        "        # Pitch dimension\r\n",
        "        N_pr = 128\r\n",
        "        pianoroll = {}\r\n",
        "\r\n",
        "        def add_note_to_pr(note_off, notes_on, pr):\r\n",
        "            pitch_off, _, time_off = note_off\r\n",
        "            # Note off : search for the note in the list of note on,\r\n",
        "            # get the start and end time\r\n",
        "            # write it in th pr\r\n",
        "            match_list = [(ind, item) for (ind, item) in enumerate(notes_on) if item[0] == pitch_off]\r\n",
        "            if len(match_list) == 0:\r\n",
        "                print(\"Try to note off a note that has never been turned on\")\r\n",
        "                # Do nothing\r\n",
        "                return\r\n",
        "\r\n",
        "            # Add note to the pr\r\n",
        "            pitch, velocity, time_on = match_list[0][1]\r\n",
        "            pr[time_on:time_off, pitch] = velocity\r\n",
        "            #v :  the force how strong you push the key\r\n",
        "            #pr contains np array that has music data\r\n",
        "            # Remove the note from notes_on\r\n",
        "            ind_match = match_list[0][0]\r\n",
        "            del notes_on[ind_match]\r\n",
        "            return\r\n",
        "\r\n",
        "        # Parse track by track\r\n",
        "        counter_unnamed_track = 0\r\n",
        "        #print(\"Number of tracks: \",mid.tracks)\r\n",
        "        for i, track in enumerate(mid.tracks):\r\n",
        "            # Instanciate the pianoroll\r\n",
        "            pr = np.zeros([T_pr, N_pr])\r\n",
        "            time_counter = 0\r\n",
        "            notes_on = []\r\n",
        "            for message in track:\r\n",
        "\r\n",
        "                ##########################################\r\n",
        "                ##########################################\r\n",
        "                ##########################################\r\n",
        "                # TODO : keep track of tempo information\r\n",
        "                # import re\r\n",
        "                # if re.search(\"tempo\", message.type):\r\n",
        "                #     import pdb; pdb.set_trace()\r\n",
        "                ##########################################\r\n",
        "                ##########################################\r\n",
        "                ##########################################\r\n",
        "\r\n",
        "\r\n",
        "                # print message\r\n",
        "                # Time. Must be incremented, whether it is a note on/off or not\r\n",
        "                time = float(message.time)\r\n",
        "                time_counter += time / ticks_per_beat * self.__quantization\r\n",
        "                # Time in pr (mapping)\r\n",
        "                time_pr = int(round(time_counter))\r\n",
        "                # Note on\r\n",
        "                if message.type == 'note_on':\r\n",
        "                    # Get pitch\r\n",
        "                    pitch = message.note\r\n",
        "                    # Get velocity\r\n",
        "                    velocity = message.velocity\r\n",
        "                    if velocity > 0:\r\n",
        "                        notes_on.append((pitch, velocity, time_pr))\r\n",
        "                    elif velocity == 0:\r\n",
        "                        add_note_to_pr((pitch, velocity, time_pr), notes_on, pr)\r\n",
        "                # Note off\r\n",
        "                elif message.type == 'note_off':\r\n",
        "                    pitch = message.note\r\n",
        "                    velocity = message.velocity\r\n",
        "                    add_note_to_pr((pitch, velocity, time_pr), notes_on, pr)\r\n",
        "\r\n",
        "            # We deal with discrete values ranged between 0 and 127\r\n",
        "            #     -> convert to int\r\n",
        "            pr = pr.astype(np.int16)\r\n",
        "            if np.sum(np.sum(pr)) > 0:\r\n",
        "                name = unidecode(track.name)\r\n",
        "                name = name.rstrip('\\x00')\r\n",
        "                if name == u'':\r\n",
        "                    name = 'unnamed' + str(counter_unnamed_track)\r\n",
        "                    counter_unnamed_track += 1\r\n",
        "                if name in pianoroll.keys():\r\n",
        "                    # Take max of the to pianorolls\r\n",
        "                    pianoroll[name] = np.maximum(pr, pianoroll[name])\r\n",
        "                else:\r\n",
        "                    pianoroll[name] = pr\r\n",
        "        return pianoroll\r\n",
        "\r\n",
        "        #goal : return the np array : 2d matrices : time * pitch , assign values [velocity(loudness)]\r\n",
        "\r\n",
        "import numpy as np\r\n",
        "\r\n",
        "def get_pianoroll_time(pianoroll):\r\n",
        "    T_pr_list = []\r\n",
        "    for k, v in pianoroll.items():\r\n",
        "        T_pr_list.append(v.shape[0])\r\n",
        "    if not len(set(T_pr_list)) == 1:\r\n",
        "        print(\"Inconsistent dimensions in the new PR\")\r\n",
        "        return None\r\n",
        "    return T_pr_list[0]\r\n",
        "\r\n",
        "def get_pitch_dim(pianoroll):\r\n",
        "    N_pr_list = []\r\n",
        "    for k, v in pianoroll.items():\r\n",
        "        N_pr_list.append(v.shape[1])\r\n",
        "    if not len(set(N_pr_list)) == 1:\r\n",
        "        print(\"Inconsistent dimensions in the new PR\")\r\n",
        "        raise NameError(\"Pr dimension\")\r\n",
        "    return N_pr_list[0]\r\n",
        "\r\n",
        "def dict_to_matrix(pianoroll):\r\n",
        "    T_pr = get_pianoroll_time(pianoroll)\r\n",
        "    N_pr = get_pitch_dim(pianoroll)\r\n",
        "    rp = np.zeros((T_pr, N_pr), dtype=np.int16)\r\n",
        "    for k, v in pianoroll.items():\r\n",
        "        rp = np.maximum(rp, v)\r\n",
        "    return rp"
      ],
      "execution_count": 7,
      "outputs": []
    },
    {
      "cell_type": "code",
      "metadata": {
        "id": "11x0T2_-dmmG"
      },
      "source": [
        "# go through all the midi files based on csv files\r\n",
        "midi_files = []\r\n",
        "for i in range(len(files)):\r\n",
        "  # files: that has the content of csv file\r\n",
        "  # files[\"\"] select the column of that data flame\r\n",
        "  #.iloc selects the specific row\r\n",
        "  file_path = \"maestro-v3.0.0/\"\r\n",
        "  file_name = files[\"midi_filename\"].iloc[i]\r\n",
        "\r\n",
        "  aaa = Read_midi(file_path+file_name, 4).read_file()\r\n",
        "  bbb = dict_to_matrix(aaa)\r\n",
        "  print(i,\". midi file, shape:\",bbb.shape)\r\n",
        "  midi_files.append(bbb)"
      ],
      "execution_count": null,
      "outputs": []
    },
    {
      "cell_type": "code",
      "metadata": {
        "id": "S_Mzx5XKatSY"
      },
      "source": [
        "aaa = Read_midi(file_name, 4).read_file()\r\n",
        "bbb = dict_to_matrix(aaa)"
      ],
      "execution_count": null,
      "outputs": []
    },
    {
      "cell_type": "code",
      "metadata": {
        "id": "x1QF861Ya6tm"
      },
      "source": [
        "aaa"
      ],
      "execution_count": null,
      "outputs": []
    },
    {
      "cell_type": "code",
      "metadata": {
        "id": "HnR5PB0La72o"
      },
      "source": [
        "bbb.shape"
      ],
      "execution_count": null,
      "outputs": []
    }
  ]
}