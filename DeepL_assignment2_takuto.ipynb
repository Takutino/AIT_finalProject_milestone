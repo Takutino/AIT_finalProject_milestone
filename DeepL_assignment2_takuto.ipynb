{
  "nbformat": 4,
  "nbformat_minor": 0,
  "metadata": {
    "kernelspec": {
      "display_name": "Python 3",
      "language": "python",
      "name": "python3"
    },
    "language_info": {
      "codemirror_mode": {
        "name": "ipython",
        "version": 3
      },
      "file_extension": ".py",
      "mimetype": "text/x-python",
      "name": "python",
      "nbconvert_exporter": "python",
      "pygments_lexer": "ipython3",
      "version": "3.6.6"
    },
    "colab": {
      "name": "DeepL-assignment2_takuto",
      "provenance": [],
      "collapsed_sections": [],
      "toc_visible": true,
      "include_colab_link": true
    }
  },
  "cells": [
    {
      "cell_type": "markdown",
      "metadata": {
        "id": "view-in-github",
        "colab_type": "text"
      },
      "source": [
        "<a href=\"https://colab.research.google.com/github/Takutino/AIT_finalProject_milestone/blob/main/DeepL_assignment2_takuto.ipynb\" target=\"_parent\"><img src=\"https://colab.research.google.com/assets/colab-badge.svg\" alt=\"Open In Colab\"/></a>"
      ]
    },
    {
      "cell_type": "markdown",
      "metadata": {
        "id": "_jiGtJu6u9ml"
      },
      "source": [
        "# Copyright\n",
        "\n",
        "<PRE>\n",
        "Copyright (c) 2021 Bálint Gyires-Tóth - All Rights Reserved\n",
        "You may use and modify this code for research and development purpuses.\n",
        "Use this code for educational purposes (self-paced or instructor led) without the permission of the author is prohibited.\n",
        "</PRE>"
      ]
    },
    {
      "cell_type": "markdown",
      "metadata": {
        "id": "oXyFC44jV-PP"
      },
      "source": [
        "# Author classification\n",
        "The task is to train a 1D CNN or an LSTM that is able to  classify text from two authors. The final model should be able to tell about a text with a given length (e.g. 60 characters) who wrote it. \n",
        "\n",
        "Please write the codes according to the following parts:"
      ]
    },
    {
      "cell_type": "markdown",
      "metadata": {
        "id": "jCnLoeGrHXsp"
      },
      "source": [
        "## Python module imports\n",
        "Import all Python modules that you would need during the Assignment."
      ]
    },
    {
      "cell_type": "code",
      "metadata": {
        "id": "7itbFGt3HXVT"
      },
      "source": [
        "import numpy as np\n",
        "import matplotlib.pyplot as plt\n",
        "from tensorflow.keras.models import Sequential\n",
        "from tensorflow.keras.layers import Dense, Flatten, Conv1D, MaxPool1D, LSTM\n",
        "import sys, re, cgi, random"
      ],
      "execution_count": null,
      "outputs": []
    },
    {
      "cell_type": "markdown",
      "metadata": {
        "id": "Hr617tEpHd8R"
      },
      "source": [
        "## Data acquisition\n",
        "Seek a possible dataset, you can use any source, e.g.\n",
        "* http://www.gutenberg.org/\n",
        "* https://www.kaggle.com/datasets\n",
        "* https://paperswithcode.com/datasets\n",
        "* if you would like to learn Hungarian, than e.g. https://mek.oszk.hu/\n",
        "\n",
        "You can download the text by hand (e.g. by copy-pasting some parts into txt files) or with Python. "
      ]
    },
    {
      "cell_type": "code",
      "metadata": {
        "id": "NgkdQxHqHdZB",
        "colab": {
          "base_uri": "https://localhost:8080/"
        },
        "outputId": "336199ee-4951-47f6-addb-9b9389f10eb9"
      },
      "source": [
        "!wget https://www.gutenberg.org/files/5200/5200-0.txt\n",
        "!wget https://www.gutenberg.org/files/64317/64317-0.txt"
      ],
      "execution_count": null,
      "outputs": [
        {
          "output_type": "stream",
          "text": [
            "--2021-05-05 16:15:58--  https://www.gutenberg.org/files/5200/5200-0.txt\n",
            "Resolving www.gutenberg.org (www.gutenberg.org)... 152.19.134.47, 2610:28:3090:3000:0:bad:cafe:47\n",
            "Connecting to www.gutenberg.org (www.gutenberg.org)|152.19.134.47|:443... connected.\n",
            "HTTP request sent, awaiting response... 200 OK\n",
            "Length: 142017 (139K) [text/plain]\n",
            "Saving to: ‘5200-0.txt.2’\n",
            "\n",
            "5200-0.txt.2        100%[===================>] 138.69K   490KB/s    in 0.3s    \n",
            "\n",
            "2021-05-05 16:16:02 (490 KB/s) - ‘5200-0.txt.2’ saved [142017/142017]\n",
            "\n",
            "--2021-05-05 16:16:02--  https://www.gutenberg.org/files/64317/64317-0.txt\n",
            "Resolving www.gutenberg.org (www.gutenberg.org)... 152.19.134.47, 2610:28:3090:3000:0:bad:cafe:47\n",
            "Connecting to www.gutenberg.org (www.gutenberg.org)|152.19.134.47|:443... connected.\n",
            "HTTP request sent, awaiting response... 200 OK\n",
            "Length: 306258 (299K) [text/plain]\n",
            "Saving to: ‘64317-0.txt.2’\n",
            "\n",
            "64317-0.txt.2       100%[===================>] 299.08K   785KB/s    in 0.4s    \n",
            "\n",
            "2021-05-05 16:16:07 (785 KB/s) - ‘64317-0.txt.2’ saved [306258/306258]\n",
            "\n"
          ],
          "name": "stdout"
        }
      ]
    },
    {
      "cell_type": "markdown",
      "metadata": {
        "id": "cHyE_ndGIblJ"
      },
      "source": [
        "## Data loading, labeling and preprocessing\n",
        "Load the data and convert the characters into one-hot encodings. Then load the data into a 3D NumPy array, with a shape of\n",
        "\n",
        "* (batch, sequence_length, alphabet_length)\n",
        "\n",
        "where sequence_length=60, and alphabet_length equals to the number of unique characters in both datasets. The sequences should be cut out from the complete dataset by sliding window. You should add 0 and 1 labels to the sequences, according to the author. \n",
        "\n",
        "Later you may change sequence_length to achieve better results!"
      ]
    },
    {
      "cell_type": "code",
      "metadata": {
        "id": "arooXt0WIb6x"
      },
      "source": [
        "text_first = open(\"5200-0.txt\", encoding='UTF-8').read().lower()\n",
        "text_second = open(\"64317-0.txt\", encoding='UTF-8').read().lower()\n"
      ],
      "execution_count": null,
      "outputs": []
    },
    {
      "cell_type": "code",
      "metadata": {
        "id": "FHglQzclD73N"
      },
      "source": [
        "text_final = text_first + text_second\n",
        "chars = sorted(list(set(text_final)))\n",
        "char_2_indices = dict((c, i) for i, c in enumerate(chars))\n",
        "indices_2_char = dict((i, c) for i, c in enumerate(chars))"
      ],
      "execution_count": null,
      "outputs": []
    },
    {
      "cell_type": "code",
      "metadata": {
        "id": "j3lWb5dcEJ1q"
      },
      "source": [
        "char_2_indices"
      ],
      "execution_count": null,
      "outputs": []
    },
    {
      "cell_type": "code",
      "metadata": {
        "id": "F8Gw0UDFEPn6"
      },
      "source": [
        "indices_2_char"
      ],
      "execution_count": null,
      "outputs": []
    },
    {
      "cell_type": "code",
      "metadata": {
        "id": "k3TI4oC2EVkM"
      },
      "source": [
        "# data preparation\n",
        "\n",
        "seq_length = 60\n",
        "step            = 60\n",
        "sentences_one   = []\n",
        "author_one = []\n",
        "\n",
        "sentences_two = []\n",
        "author_two = []\n",
        "\n",
        "for i in range(0, len(text_first)-seq_length, step):\n",
        "  sentences_one.append(text_first[i:i+seq_length]) # if i=0, text[0:60]\n",
        "  author_one.append(text_first[i+seq_length])\n",
        "\n",
        "for i in range(0, len(text_second)-seq_length, step):\n",
        "  sentences_two.append(text_second[i:i+seq_length]) # if i=0, text[0:60]\n",
        "  author_two.append(text_second[i+seq_length])\n",
        "\n"
      ],
      "execution_count": null,
      "outputs": []
    },
    {
      "cell_type": "code",
      "metadata": {
        "id": "w0WODhdiFoF9"
      },
      "source": [
        "X1 = np.zeros((len(sentences_one), seq_length, len(chars)))\n",
        "Y1 = np.zeros((len(sentences_one), 1))\n",
        "\n",
        "X2 = np.zeros((len(sentences_two), seq_length, len(chars)))\n",
        "Y2 = np.zeros((len(sentences_two), 1))\n",
        "\n"
      ],
      "execution_count": null,
      "outputs": []
    },
    {
      "cell_type": "code",
      "metadata": {
        "id": "BFGKBwzSKfMP"
      },
      "source": [
        "for i, sentence in enumerate(sentences_one): # go through all the sentences\n",
        "  for t, char in enumerate(sentence):      # go through all the characters in all the sentences\n",
        "    X1[i, t, char_2_indices[char]] = 1\n",
        "  Y1[i, 0] = 0\n",
        "\n",
        "for i, sentence in enumerate(sentences_two): # go through all the sentences\n",
        "  for t, char in enumerate(sentence):      # go through all the characters in all the sentences\n",
        "    X2[i, t, char_2_indices[char]] = 1\n",
        "  Y2[i, 0] = 1"
      ],
      "execution_count": null,
      "outputs": []
    },
    {
      "cell_type": "code",
      "metadata": {
        "id": "wc5u0mgxtcGg"
      },
      "source": [
        "# Combine two texts\n",
        "X_final = np.concatenate((X1, X2), axis=0)\n",
        "Y_final = np.concatenate((Y1, Y2), axis=0)"
      ],
      "execution_count": null,
      "outputs": []
    },
    {
      "cell_type": "code",
      "metadata": {
        "id": "6y9_ZpcXtxtM"
      },
      "source": [
        "# Shuffle texts randomly\n",
        "import random\n",
        "\n",
        "indices = np.arange(len(X_final))\n",
        "random.shuffle(indices)\n",
        "X_final = X_final[indices]\n",
        "Y_final = Y_final[indices]"
      ],
      "execution_count": null,
      "outputs": []
    },
    {
      "cell_type": "markdown",
      "metadata": {
        "id": "BjbAUPmIrYQ9"
      },
      "source": [
        ""
      ]
    },
    {
      "cell_type": "markdown",
      "metadata": {
        "id": "lL1Mc8ibHnep"
      },
      "source": [
        "## Data splitting\n",
        "Split the data into train, validate and test sets."
      ]
    },
    {
      "cell_type": "code",
      "metadata": {
        "id": "ELyG9XFUHrkB"
      },
      "source": [
        "  valid_split = 0.2\n",
        "  test_split = 0.1\n",
        "  \n",
        "  valid_size = int(X_final.shape[0]*(1-valid_split-test_split))\n",
        "  test_size = int(X_final.shape[0]*(1-test_split))\n",
        "\n",
        "  X_train = X_final[0:valid_size]\n",
        "  Y_train = Y_final[0:valid_size]\n",
        "  X_valid = X_final[valid_size : test_size]\n",
        "  Y_valid = Y_final[valid_size : test_size]\n",
        "  X_test  = X_final[test_size:]\n",
        "  Y_test  = Y_final[test_size:]"
      ],
      "execution_count": null,
      "outputs": []
    },
    {
      "cell_type": "markdown",
      "metadata": {
        "id": "hA8U9tr7HrNQ"
      },
      "source": [
        "## Model definition\n",
        "Define a 1D CNN or an LSTM for the task. Compile the model with the correct loss function."
      ]
    },
    {
      "cell_type": "code",
      "metadata": {
        "id": "BT1V1s4kHuUe"
      },
      "source": [
        "# 1D CNN\n",
        "model = Sequential()\n",
        "model.add(Conv1D(4, 3, activation='relu', kernel_initializer='he_normal',  input_shape=(X_final.shape[1], X_final.shape[2])))\n",
        "model.add(MaxPool1D())\n",
        "model.add(Conv1D(4, 3, activation='relu', kernel_initializer='he_normal'))\n",
        "model.add(MaxPool1D())\n",
        "model.add(Flatten())\n",
        "model.add(Dense(1, activation='sigmoid'))\n"
      ],
      "execution_count": null,
      "outputs": []
    },
    {
      "cell_type": "code",
      "metadata": {
        "id": "Qno9w08CwLpX"
      },
      "source": [
        "# LSTM\n",
        "# model = Sequential()\n",
        "# model.add(LSTM(16, input_shape = (X_final.shape[1], X_final.shape[2])))\n",
        "# model.add(Dense(1, activation='linear'))"
      ],
      "execution_count": null,
      "outputs": []
    },
    {
      "cell_type": "code",
      "metadata": {
        "id": "rN4Ld_bBFwXB",
        "colab": {
          "base_uri": "https://localhost:8080/"
        },
        "outputId": "99002b81-dd0c-493b-8f93-bd23edd130c0"
      },
      "source": [
        "model.summary()"
      ],
      "execution_count": null,
      "outputs": [
        {
          "output_type": "stream",
          "text": [
            "Model: \"sequential_8\"\n",
            "_________________________________________________________________\n",
            "Layer (type)                 Output Shape              Param #   \n",
            "=================================================================\n",
            "conv1d_16 (Conv1D)           (None, 58, 4)             832       \n",
            "_________________________________________________________________\n",
            "max_pooling1d_16 (MaxPooling (None, 29, 4)             0         \n",
            "_________________________________________________________________\n",
            "conv1d_17 (Conv1D)           (None, 27, 4)             52        \n",
            "_________________________________________________________________\n",
            "max_pooling1d_17 (MaxPooling (None, 13, 4)             0         \n",
            "_________________________________________________________________\n",
            "flatten_8 (Flatten)          (None, 52)                0         \n",
            "_________________________________________________________________\n",
            "dense_8 (Dense)              (None, 1)                 53        \n",
            "=================================================================\n",
            "Total params: 937\n",
            "Trainable params: 937\n",
            "Non-trainable params: 0\n",
            "_________________________________________________________________\n"
          ],
          "name": "stdout"
        }
      ]
    },
    {
      "cell_type": "code",
      "metadata": {
        "id": "B39lnlRLF1is"
      },
      "source": [
        "model.compile(loss='binary_crossentropy', optimizer='adam', metrics=['accuracy'])"
      ],
      "execution_count": null,
      "outputs": []
    },
    {
      "cell_type": "markdown",
      "metadata": {
        "id": "hWFb-nAMHuAI"
      },
      "source": [
        "## Model training\n",
        "Train the model and apply early stopping."
      ]
    },
    {
      "cell_type": "code",
      "metadata": {
        "id": "-A9Fr4E_GJtK"
      },
      "source": [
        "from tensorflow.keras.callbacks import TensorBoard\n",
        "tb = TensorBoard(log_dir='logs/baseline', histogram_freq=1, write_graph=1)\n",
        "from tensorflow.keras.callbacks import EarlyStopping\n",
        "es = EarlyStopping(patience=10, restore_best_weights=True)"
      ],
      "execution_count": null,
      "outputs": []
    },
    {
      "cell_type": "code",
      "metadata": {
        "id": "dvgKjqp3Hwkp",
        "colab": {
          "base_uri": "https://localhost:8080/"
        },
        "outputId": "818798ab-3234-40b1-ab64-d171377d9a59"
      },
      "source": [
        "model.fit(X_train, Y_train, epochs=100, batch_size=16,\n",
        "          validation_data=(X_valid, Y_valid), callbacks=[tb,es])"
      ],
      "execution_count": null,
      "outputs": [
        {
          "output_type": "stream",
          "text": [
            "Epoch 1/100\n",
            "313/313 [==============================] - 2s 5ms/step - loss: 0.6356 - accuracy: 0.6716 - val_loss: 0.6237 - val_accuracy: 0.6709\n",
            "Epoch 2/100\n",
            "313/313 [==============================] - 1s 4ms/step - loss: 0.6146 - accuracy: 0.6776 - val_loss: 0.6079 - val_accuracy: 0.6709\n",
            "Epoch 3/100\n",
            "313/313 [==============================] - 1s 5ms/step - loss: 0.5860 - accuracy: 0.6797 - val_loss: 0.5828 - val_accuracy: 0.6723\n",
            "Epoch 4/100\n",
            "313/313 [==============================] - 1s 5ms/step - loss: 0.5685 - accuracy: 0.6697 - val_loss: 0.5638 - val_accuracy: 0.6807\n",
            "Epoch 5/100\n",
            "313/313 [==============================] - 1s 5ms/step - loss: 0.5330 - accuracy: 0.7035 - val_loss: 0.5469 - val_accuracy: 0.7003\n",
            "Epoch 6/100\n",
            "313/313 [==============================] - 1s 5ms/step - loss: 0.5137 - accuracy: 0.7303 - val_loss: 0.5329 - val_accuracy: 0.7178\n",
            "Epoch 7/100\n",
            "313/313 [==============================] - 1s 4ms/step - loss: 0.4951 - accuracy: 0.7461 - val_loss: 0.5231 - val_accuracy: 0.7297\n",
            "Epoch 8/100\n",
            "313/313 [==============================] - 1s 5ms/step - loss: 0.4943 - accuracy: 0.7472 - val_loss: 0.5174 - val_accuracy: 0.7304\n",
            "Epoch 9/100\n",
            "313/313 [==============================] - 1s 5ms/step - loss: 0.4619 - accuracy: 0.7731 - val_loss: 0.5095 - val_accuracy: 0.7402\n",
            "Epoch 10/100\n",
            "313/313 [==============================] - 1s 5ms/step - loss: 0.4753 - accuracy: 0.7625 - val_loss: 0.5038 - val_accuracy: 0.7451\n",
            "Epoch 11/100\n",
            "313/313 [==============================] - 1s 5ms/step - loss: 0.4437 - accuracy: 0.7870 - val_loss: 0.4980 - val_accuracy: 0.7535\n",
            "Epoch 12/100\n",
            "313/313 [==============================] - 1s 5ms/step - loss: 0.4333 - accuracy: 0.7852 - val_loss: 0.4954 - val_accuracy: 0.7549\n",
            "Epoch 13/100\n",
            "313/313 [==============================] - 1s 5ms/step - loss: 0.4268 - accuracy: 0.7842 - val_loss: 0.4929 - val_accuracy: 0.7507\n",
            "Epoch 14/100\n",
            "313/313 [==============================] - 1s 5ms/step - loss: 0.4270 - accuracy: 0.7941 - val_loss: 0.4938 - val_accuracy: 0.7598\n",
            "Epoch 15/100\n",
            "313/313 [==============================] - 1s 5ms/step - loss: 0.4109 - accuracy: 0.8081 - val_loss: 0.4977 - val_accuracy: 0.7528\n",
            "Epoch 16/100\n",
            "313/313 [==============================] - 1s 5ms/step - loss: 0.4160 - accuracy: 0.7975 - val_loss: 0.4872 - val_accuracy: 0.7598\n",
            "Epoch 17/100\n",
            "313/313 [==============================] - 1s 5ms/step - loss: 0.4018 - accuracy: 0.8021 - val_loss: 0.4886 - val_accuracy: 0.7647\n",
            "Epoch 18/100\n",
            "313/313 [==============================] - 1s 5ms/step - loss: 0.4045 - accuracy: 0.8096 - val_loss: 0.4877 - val_accuracy: 0.7626\n",
            "Epoch 19/100\n",
            "313/313 [==============================] - 1s 5ms/step - loss: 0.3959 - accuracy: 0.8171 - val_loss: 0.4901 - val_accuracy: 0.7591\n",
            "Epoch 20/100\n",
            "313/313 [==============================] - 1s 5ms/step - loss: 0.3975 - accuracy: 0.8130 - val_loss: 0.4887 - val_accuracy: 0.7619\n",
            "Epoch 21/100\n",
            "313/313 [==============================] - 1s 5ms/step - loss: 0.3853 - accuracy: 0.8151 - val_loss: 0.4880 - val_accuracy: 0.7654\n",
            "Epoch 22/100\n",
            "313/313 [==============================] - 1s 5ms/step - loss: 0.3797 - accuracy: 0.8150 - val_loss: 0.4883 - val_accuracy: 0.7710\n",
            "Epoch 23/100\n",
            "313/313 [==============================] - 1s 5ms/step - loss: 0.3795 - accuracy: 0.8201 - val_loss: 0.4897 - val_accuracy: 0.7689\n",
            "Epoch 24/100\n",
            "313/313 [==============================] - 1s 5ms/step - loss: 0.3856 - accuracy: 0.8180 - val_loss: 0.4903 - val_accuracy: 0.7668\n",
            "Epoch 25/100\n",
            "313/313 [==============================] - 1s 5ms/step - loss: 0.3764 - accuracy: 0.8160 - val_loss: 0.4906 - val_accuracy: 0.7668\n",
            "Epoch 26/100\n",
            "313/313 [==============================] - 1s 5ms/step - loss: 0.3685 - accuracy: 0.8210 - val_loss: 0.4865 - val_accuracy: 0.7724\n",
            "Epoch 27/100\n",
            "313/313 [==============================] - 2s 5ms/step - loss: 0.3733 - accuracy: 0.8194 - val_loss: 0.4986 - val_accuracy: 0.7633\n",
            "Epoch 28/100\n",
            "313/313 [==============================] - 1s 5ms/step - loss: 0.3744 - accuracy: 0.8160 - val_loss: 0.4924 - val_accuracy: 0.7682\n",
            "Epoch 29/100\n",
            "313/313 [==============================] - 1s 5ms/step - loss: 0.3643 - accuracy: 0.8235 - val_loss: 0.5006 - val_accuracy: 0.7640\n",
            "Epoch 30/100\n",
            "313/313 [==============================] - 1s 5ms/step - loss: 0.3607 - accuracy: 0.8227 - val_loss: 0.4915 - val_accuracy: 0.7640\n",
            "Epoch 31/100\n",
            "313/313 [==============================] - 2s 5ms/step - loss: 0.3630 - accuracy: 0.8310 - val_loss: 0.4926 - val_accuracy: 0.7675\n",
            "Epoch 32/100\n",
            "313/313 [==============================] - 1s 5ms/step - loss: 0.3756 - accuracy: 0.8235 - val_loss: 0.5210 - val_accuracy: 0.7591\n",
            "Epoch 33/100\n",
            "313/313 [==============================] - 1s 5ms/step - loss: 0.3654 - accuracy: 0.8297 - val_loss: 0.5241 - val_accuracy: 0.7388\n",
            "Epoch 34/100\n",
            "313/313 [==============================] - 1s 5ms/step - loss: 0.3722 - accuracy: 0.8199 - val_loss: 0.4946 - val_accuracy: 0.7598\n",
            "Epoch 35/100\n",
            "313/313 [==============================] - 1s 5ms/step - loss: 0.3572 - accuracy: 0.8316 - val_loss: 0.5089 - val_accuracy: 0.7619\n",
            "Epoch 36/100\n",
            "313/313 [==============================] - 1s 5ms/step - loss: 0.3513 - accuracy: 0.8358 - val_loss: 0.5062 - val_accuracy: 0.7619\n"
          ],
          "name": "stdout"
        },
        {
          "output_type": "execute_result",
          "data": {
            "text/plain": [
              "<tensorflow.python.keras.callbacks.History at 0x7f65a3c3f410>"
            ]
          },
          "metadata": {
            "tags": []
          },
          "execution_count": 143
        }
      ]
    },
    {
      "cell_type": "markdown",
      "metadata": {
        "id": "0omw2XzSHwOo"
      },
      "source": [
        "## Evaluation on test data\n",
        "Evaluate the model on the test data in terms of loss and accuracy."
      ]
    },
    {
      "cell_type": "code",
      "metadata": {
        "id": "Zmru5oV2UD3U"
      },
      "source": [
        "preds = model.predict(X_test)"
      ],
      "execution_count": null,
      "outputs": []
    },
    {
      "cell_type": "code",
      "metadata": {
        "id": "4bF3dQA1Hv_R",
        "colab": {
          "base_uri": "https://localhost:8080/"
        },
        "outputId": "83274885-3a45-4f8a-86a9-aa0b13cd6545"
      },
      "source": [
        "from sklearn.metrics import accuracy_score, precision_score, recall_score, f1_score\n",
        "print(\"Accuracy: \", accuracy_score(np.argmax(Y_test,axis=1), np.round(preds)))\n",
        "print(\"Precision: \", precision_score(np.argmax(Y_test,axis=1), np.round(preds), average='macro'))\n",
        "print(\"Recall: \", recall_score(np.argmax(Y_test,axis=1), np.round(preds), average='macro'))\n",
        "print(\"F1: \", f1_score(np.argmax(Y_test,axis=1), np.round(preds), average='macro'))"
      ],
      "execution_count": null,
      "outputs": [
        {
          "output_type": "stream",
          "text": [
            "Accuracy:  0.2605042016806723\n",
            "Precision:  0.5\n",
            "Recall:  0.13025210084033614\n",
            "F1:  0.2066666666666667\n"
          ],
          "name": "stdout"
        },
        {
          "output_type": "stream",
          "text": [
            "/usr/local/lib/python3.7/dist-packages/sklearn/metrics/_classification.py:1272: UndefinedMetricWarning: Recall is ill-defined and being set to 0.0 in labels with no true samples. Use `zero_division` parameter to control this behavior.\n",
            "  _warn_prf(average, modifier, msg_start, len(result))\n"
          ],
          "name": "stderr"
        }
      ]
    },
    {
      "cell_type": "markdown",
      "metadata": {
        "id": "4Y73Q-h5Hz1r"
      },
      "source": [
        "## Confusion matrix\n",
        "Calculate and display the confusion matrix."
      ]
    },
    {
      "cell_type": "code",
      "metadata": {
        "id": "tY2x6UQMGszH"
      },
      "source": [
        "from sklearn.metrics import confusion_matrix"
      ],
      "execution_count": null,
      "outputs": []
    },
    {
      "cell_type": "code",
      "metadata": {
        "id": "dYkS3m9tHB-q"
      },
      "source": [
        "conf = confusion_matrix(Y_test, np.round(preds))"
      ],
      "execution_count": null,
      "outputs": []
    },
    {
      "cell_type": "code",
      "metadata": {
        "colab": {
          "base_uri": "https://localhost:8080/",
          "height": 282
        },
        "id": "7U3G4k9FL6IY",
        "outputId": "43e34cbc-b5c1-4a64-e184-8577b40e78db"
      },
      "source": [
        "import seaborn as sns\n",
        "\n",
        "sns.heatmap(conf)"
      ],
      "execution_count": null,
      "outputs": [
        {
          "output_type": "execute_result",
          "data": {
            "text/plain": [
              "<matplotlib.axes._subplots.AxesSubplot at 0x7f65a3c2de10>"
            ]
          },
          "metadata": {
            "tags": []
          },
          "execution_count": 148
        },
        {
          "output_type": "display_data",
          "data": {
            "image/png": "[encoded data removed]",
            "text/plain": [
              "<Figure size 432x288 with 2 Axes>"
            ]
          },
          "metadata": {
            "tags": [],
            "needs_background": "light"
          }
        }
      ]
    }
  ]
}